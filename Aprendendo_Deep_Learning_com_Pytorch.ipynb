{
  "nbformat": 4,
  "nbformat_minor": 0,
  "metadata": {
    "colab": {
      "name": "Aprendendo Deep Learning com Pytorch",
      "provenance": [],
      "collapsed_sections": [],
      "authorship_tag": "ABX9TyO+DT7760KMw3HYilnxYn30",
      "include_colab_link": true
    },
    "kernelspec": {
      "name": "python3",
      "display_name": "Python 3"
    },
    "accelerator": "GPU"
  },
  "cells": [
    {
      "cell_type": "markdown",
      "metadata": {
        "id": "view-in-github",
        "colab_type": "text"
      },
      "source": [
        "<a href=\"https://colab.research.google.com/github/adalbertobrant/aprendendoDeepLearning/blob/master/Aprendendo_Deep_Learning_com_Pytorch.ipynb\" target=\"_parent\"><img src=\"https://colab.research.google.com/assets/colab-badge.svg\" alt=\"Open In Colab\"/></a>"
      ]
    },
    {
      "cell_type": "code",
      "metadata": {
        "id": "hHYXIezqlwI6",
        "colab_type": "code",
        "colab": {
          "base_uri": "https://localhost:8080/",
          "height": 34
        },
        "outputId": "c53490f0-7b7a-4406-9541-786be8b2cc6b"
      },
      "source": [
        "# https://colab.research.google.com/drive/1srw_HFWQ2SMgmWIawucXfusGzrj1_U0q / https://stackoverflow.com/questions/48376580/google-colab-how-to-read-data-from-my-google-drive\n",
        "# Load the Drive helper and mount\n",
        "from google.colab import drive\n",
        "\n",
        "# This will prompt for authorization.\n",
        "drive.mount('/content/drive')"
      ],
      "execution_count": null,
      "outputs": [
        {
          "output_type": "stream",
          "text": [
            "Drive already mounted at /content/drive; to attempt to forcibly remount, call drive.mount(\"/content/drive\", force_remount=True).\n"
          ],
          "name": "stdout"
        }
      ]
    },
    {
      "cell_type": "code",
      "metadata": {
        "id": "A6FCj3nVSKYI",
        "colab_type": "code",
        "colab": {}
      },
      "source": [
        "import torch\n",
        "#print(torch.__version__)\n",
        "#print(torch.cuda.is_available())"
      ],
      "execution_count": null,
      "outputs": []
    },
    {
      "cell_type": "code",
      "metadata": {
        "id": "lnROTaYyUPgk",
        "colab_type": "code",
        "colab": {}
      },
      "source": [
        "from torchvision import models"
      ],
      "execution_count": null,
      "outputs": []
    },
    {
      "cell_type": "code",
      "metadata": {
        "id": "uN-Az555Ufdk",
        "colab_type": "code",
        "colab": {}
      },
      "source": [
        "#print((dir(models))) #mostra os modelos disponíveis \n",
        "alexnet = models.AlexNet() # imprime o alexnet\n",
        "#print(alexnet)\n",
        "#input = \"entrada de dados compatível com a AlexNet\"\n",
        "# output = alexnet(input) => saida em output com o dado entrado (input) na AlexNet\n",
        "resnet = models.resnet101(pretrained=True)\n",
        "#print(resnet)"
      ],
      "execution_count": null,
      "outputs": []
    },
    {
      "cell_type": "code",
      "metadata": {
        "id": "VbFTWTyViqUE",
        "colab_type": "code",
        "colab": {}
      },
      "source": [
        "from torchvision import transforms\n",
        "preprocess = transforms.Compose([\n",
        "        transforms.Resize(256),\n",
        "        transforms.CenterCrop(224),\n",
        "        transforms.ToTensor(),\n",
        "        transforms.Normalize(\n",
        "            mean=[0.485, 0.456, 0.406],\n",
        "            std=[0.229, 0.224, 0.225]\n",
        "        )])\n",
        "#print(preprocess)"
      ],
      "execution_count": null,
      "outputs": []
    },
    {
      "cell_type": "code",
      "metadata": {
        "id": "N2Uad2I-i8vW",
        "colab_type": "code",
        "colab": {}
      },
      "source": [
        "from PIL import Image\n",
        "img = Image.open(\"/content/drive/My Drive/imagegooglecolab/bobby.jpg\")\n",
        "img1 = Image.open(\"/content/drive/My Drive/imagegooglecolab/labrador.jpg\")\n",
        "img2 = Image.open(\"/content/drive/My Drive/imagegooglecolab/atila.jpg\")\n",
        "adal = Image.open(\"/content/drive/My Drive/imagegooglecolab/adal96x96.jpg\")\n",
        "#mostra info da imagem\n",
        "#print(img) \n",
        "img_t = preprocess(img)\n",
        "img_t1 = preprocess(img1)\n",
        "img_t2 = preprocess(img2)\n",
        "img_t3 = preprocess(adal)\n",
        "#nova imagem depois do preprocess vira um TENSOR.\n",
        "#print(img_t)"
      ],
      "execution_count": null,
      "outputs": []
    },
    {
      "cell_type": "code",
      "metadata": {
        "id": "vQM2vI6-x02N",
        "colab_type": "code",
        "colab": {}
      },
      "source": [
        "#import torch\n",
        "batch_t = torch.unsqueeze(img_t, 0)\n",
        "batch_t1 = torch.unsqueeze(img_t1,0)\n",
        "batch_t2 = torch.unsqueeze(img_t2,0)\n",
        "batch_t3 = torch.unsqueeze(img_t3,0)\n",
        "\n",
        "resnet.eval()\n",
        "out = resnet(batch_t)\n",
        "out_1 = resnet(batch_t1)\n",
        "out_2 = resnet(batch_t2)\n",
        "out_adal = resnet(batch_t3)\n",
        "#print(out)\n",
        "# https://github.com/deep-learning-with-pytorch/dlwpt-code/blob/master/data/p1ch2/imagenet_classes.txt\n",
        "with open('/content/drive/My Drive/imagegooglecolab/imagenet_classes.txt') as f:\n",
        "  labels = [line.strip() for line in f.readlines()]"
      ],
      "execution_count": null,
      "outputs": []
    },
    {
      "cell_type": "code",
      "metadata": {
        "id": "nLD4hocZ7KqI",
        "colab_type": "code",
        "colab": {}
      },
      "source": [
        "_, index = torch.max(out_2, 1)\n",
        "_, indice = torch.max(out_adal,1)\n",
        "# existem outras maneira de fazer isso"
      ],
      "execution_count": null,
      "outputs": []
    },
    {
      "cell_type": "code",
      "metadata": {
        "id": "nbz9iHU8_HDB",
        "colab_type": "code",
        "colab": {
          "base_uri": "https://localhost:8080/",
          "height": 104
        },
        "outputId": "dfda4afe-cbbe-4c18-9ef4-677d9d1ff4a2"
      },
      "source": [
        "_, indices = torch.sort(out_adal, descending=True)\n",
        "[(labels[idx], percentage[idx].item()) for idx in indices[0][:5]]\n"
      ],
      "execution_count": null,
      "outputs": [
        {
          "output_type": "execute_result",
          "data": {
            "text/plain": [
              "[('Windsor tie', 2.8653118988586357e-06),\n",
              " ('lab coat, laboratory coat', 5.304402748151915e-06),\n",
              " ('torch', 5.372726263885852e-06),\n",
              " ('suit, suit of clothes', 1.1562414329091553e-05),\n",
              " ('oboe, hautboy, hautbois', 6.32377341389656e-05)]"
            ]
          },
          "metadata": {
            "tags": []
          },
          "execution_count": 95
        }
      ]
    },
    {
      "cell_type": "code",
      "metadata": {
        "id": "x1vNEDVx7TOg",
        "colab_type": "code",
        "colab": {}
      },
      "source": [
        "\n",
        "percentage = torch.nn.functional.softmax(out, dim=1)[0] * 100\n",
        "imagem_atila = labels[index[0]], percentage[index[0]].item()\n",
        "imagem_adal = labels[indice[0]], percentage[indice[0]].item()"
      ],
      "execution_count": null,
      "outputs": []
    },
    {
      "cell_type": "code",
      "metadata": {
        "id": "GshrmHlP7-h0",
        "colab_type": "code",
        "colab": {}
      },
      "source": [
        "print(imagem_atila)\n",
        "print(\"=====\")\n",
        "print(imagem_adal)"
      ],
      "execution_count": null,
      "outputs": []
    }
  ]
}