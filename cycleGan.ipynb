{
  "nbformat": 4,
  "nbformat_minor": 0,
  "metadata": {
    "colab": {
      "name": "cycleGan.ipynb",
      "provenance": [],
      "authorship_tag": "ABX9TyPfNR2aNpeqG3VngSkgoDlv",
      "include_colab_link": true
    },
    "kernelspec": {
      "name": "python3",
      "display_name": "Python 3"
    }
  },
  "cells": [
    {
      "cell_type": "markdown",
      "metadata": {
        "id": "view-in-github",
        "colab_type": "text"
      },
      "source": [
        "<a href=\"https://colab.research.google.com/github/adalbertobrant/aprendendoDeepLearning/blob/master/cycleGan.ipynb\" target=\"_parent\"><img src=\"https://colab.research.google.com/assets/colab-badge.svg\" alt=\"Open In Colab\"/></a>"
      ]
    },
    {
      "cell_type": "code",
      "metadata": {
        "id": "Yy4DO-SR5apw",
        "colab_type": "code",
        "colab": {}
      },
      "source": [
        "import torch\n",
        "import torch.nn as nn\n",
        "from google.colab import drive\n",
        "drive.mount('/content/drive')\n",
        "\n",
        "class ResNetBlock(nn.Module): # <1>\n",
        "\n",
        "    def __init__(self, dim):\n",
        "        super(ResNetBlock, self).__init__()\n",
        "        self.conv_block = self.build_conv_block(dim)\n",
        "\n",
        "    def build_conv_block(self, dim):\n",
        "        conv_block = []\n",
        "\n",
        "        conv_block += [nn.ReflectionPad2d(1)]\n",
        "\n",
        "        conv_block += [nn.Conv2d(dim, dim, kernel_size=3, padding=0, bias=True),\n",
        "                       nn.InstanceNorm2d(dim),\n",
        "                       nn.ReLU(True)]\n",
        "\n",
        "        conv_block += [nn.ReflectionPad2d(1)]\n",
        "\n",
        "        conv_block += [nn.Conv2d(dim, dim, kernel_size=3, padding=0, bias=True),\n",
        "                       nn.InstanceNorm2d(dim)]\n",
        "\n",
        "        return nn.Sequential(*conv_block)\n",
        "\n",
        "    def forward(self, x):\n",
        "        out = x + self.conv_block(x) # <2>\n",
        "        return out\n",
        "\n",
        "\n",
        "class ResNetGenerator(nn.Module):\n",
        "\n",
        "    def __init__(self, input_nc=3, output_nc=3, ngf=64, n_blocks=9): # <3> \n",
        "\n",
        "        assert(n_blocks >= 0)\n",
        "        super(ResNetGenerator, self).__init__()\n",
        "\n",
        "        self.input_nc = input_nc\n",
        "        self.output_nc = output_nc\n",
        "        self.ngf = ngf\n",
        "\n",
        "        model = [nn.ReflectionPad2d(3),\n",
        "                 nn.Conv2d(input_nc, ngf, kernel_size=7, padding=0, bias=True),\n",
        "                 nn.InstanceNorm2d(ngf),\n",
        "                 nn.ReLU(True)]\n",
        "\n",
        "        n_downsampling = 2\n",
        "        for i in range(n_downsampling):\n",
        "            mult = 2**i\n",
        "            model += [nn.Conv2d(ngf * mult, ngf * mult * 2, kernel_size=3,\n",
        "                                stride=2, padding=1, bias=True),\n",
        "                      nn.InstanceNorm2d(ngf * mult * 2),\n",
        "                      nn.ReLU(True)]\n",
        "\n",
        "        mult = 2**n_downsampling\n",
        "        for i in range(n_blocks):\n",
        "            model += [ResNetBlock(ngf * mult)]\n",
        "\n",
        "        for i in range(n_downsampling):\n",
        "            mult = 2**(n_downsampling - i)\n",
        "            model += [nn.ConvTranspose2d(ngf * mult, int(ngf * mult / 2),\n",
        "                                         kernel_size=3, stride=2,\n",
        "                                         padding=1, output_padding=1,\n",
        "                                         bias=True),\n",
        "                      nn.InstanceNorm2d(int(ngf * mult / 2)),\n",
        "                      nn.ReLU(True)]\n",
        "\n",
        "        model += [nn.ReflectionPad2d(3)]\n",
        "        model += [nn.Conv2d(ngf, output_nc, kernel_size=7, padding=0)]\n",
        "        model += [nn.Tanh()]\n",
        "\n",
        "        self.model = nn.Sequential(*model)\n",
        "\n",
        "    def forward(self, input): # <3>\n",
        "        return self.model(input)"
      ],
      "execution_count": null,
      "outputs": []
    },
    {
      "cell_type": "code",
      "metadata": {
        "id": "a0MJPOBb5_xG",
        "colab_type": "code",
        "colab": {}
      },
      "source": [
        "netG = ResNetGenerator()\n",
        "model_path = \"/content/drive/My Drive/imagegooglecolab/horse2zebra_0.4.0.pth\"\n",
        "model_data = torch.load(model_path)\n",
        "netG.load_state_dict(model_data) "
      ],
      "execution_count": null,
      "outputs": []
    },
    {
      "cell_type": "code",
      "metadata": {
        "id": "I6T2ZgQx9cuj",
        "colab_type": "code",
        "colab": {}
      },
      "source": [
        "netG.eval()"
      ],
      "execution_count": null,
      "outputs": []
    },
    {
      "cell_type": "code",
      "metadata": {
        "id": "fUMizhHy99CX",
        "colab_type": "code",
        "colab": {}
      },
      "source": [
        "from PIL import Image\n",
        "from torchvision import transforms\n",
        "\n",
        "#preprocessamento da imagem atualizando o seu tamanho e tranformando para um tensor ToTensor()\n",
        "preprocess = transforms.Compose([transforms.Resize(256),transforms.ToTensor()])\n",
        "\n",
        "end = \"/content/drive/My Drive/imagegooglecolab/cavalo_preto.jpg\"\n",
        "img_cavalo = Image.open(end)\n",
        "\n",
        "# processamento da imagem com a GAN\n",
        "img_cavalo_tensor = preprocess(img_cavalo)\n",
        "batch_t = torch.unsqueeze(img_cavalo_tensor,0)\n",
        "batch_out = netG(batch_t)\n",
        "\n",
        "#criação da zebra e também GAN\n",
        "out_t = (batch_out.data.squeeze() + 1.0) / 2.0\n",
        "out_img = transforms.ToPILImage()(out_t)\n",
        "# salva a imagem\n",
        "out_img.save('/content/drive/My Drive/imagegooglecolab/zebra.jpg')\n",
        "out_img"
      ],
      "execution_count": null,
      "outputs": []
    }
  ]
}